{
 "cells": [
  {
   "cell_type": "code",
   "execution_count": 1,
   "metadata": {},
   "outputs": [],
   "source": [
    "class city():\n",
    "    name = None\n",
    "    location=None\n",
    "    price = None\n",
    "    def __str__(self):\n",
    "        return self.name\n",
    "    __repr__=__str__"
   ]
  },
  {
   "cell_type": "code",
   "execution_count": 2,
   "metadata": {},
   "outputs": [],
   "source": [
    "cities=[]"
   ]
  },
  {
   "cell_type": "code",
   "execution_count": 3,
   "metadata": {},
   "outputs": [],
   "source": [
    "import urllib, json\n",
    "startdate=\"2018-01-01\"\n",
    "enddate=\"2019-01-01\"\n",
    "urlst=\"https://www.immowelt.de/immobilienpreise/proxy?\"\\\n",
    "\"geoid=108\"\\\n",
    "\"&estatetype=H%C3%A4user\"\\\n",
    "\"&distributiontype=Kauf\"\\\n",
    "\"&dimensiontype=geobeschreibung\"\\\n",
    "\"&facttype=quadratmeterpreiskauf\"\\\n",
    "\"&date=\"+startdate+\":\"+enddate\n",
    "data = urllib.request.urlopen(urlst).read()\n",
    "data_json = data[data.index(b\"{\"):data.rindex(b\"}\")+1]\n",
    "data=json.loads(data_json)\n"
   ]
  },
  {
   "cell_type": "code",
   "execution_count": 4,
   "metadata": {},
   "outputs": [],
   "source": [
    "for i in range(len(data[\"xAxis\"][\"categories\"])):\n",
    "    c = city()\n",
    "    c.name = data[\"xAxis\"][\"categories\"][i]\n",
    "    c.price = {\"mean\":data[\"series\"][0][\"data\"][i][\"y\"],\"low\":data[\"series\"][1][\"data\"][i][\"low\"],\"high\":data[\"series\"][1][\"data\"][i][\"high\"]}\n",
    "    cities.append(c)"
   ]
  },
  {
   "cell_type": "code",
   "execution_count": 5,
   "metadata": {},
   "outputs": [
    {
     "name": "stdout",
     "output_type": "stream",
     "text": [
      "[Hamburg , Berlin , Bremen , Nürnberg , Leipzig , München , Köln , Dortmund , Lübeck , Saarbrücken , Wuppertal , Bielefeld , Erlangen , Duisburg , Dresden , Oldenburg , Essen , Kassel , Norderstedt , Fürth , Mönchengladbach , Frankfurt , Düsseldorf , Ingolstadt , Hannover , Kammerforst b Mühlhausen, Thür, Hamm , Schwabach, Bonn , Stuttgart , Münster , Trier , Magdeburg , Villingen-Schwenningen , Gelsenkirchen , Neuss , Henstedt-Ulzburg, Krefeld , Leverkusen , Wilhelmshaven , Ammersbek, Falkensee, Kiel , Delmenhorst , Halle , Rhauderfehn, Krostitz, Emden , Bochum , Mainz , Paderborn , Aurich , Neumünster , Lüneburg , Wiesbaden , Seevetal , Osnabrück , Mannheim , Ludwigshafen , Augsburg , Regensburg , Celle , Nordhorn , Braunschweig , Burgthann, Remscheid , Zirndorf , Mittelfr, Pinneberg, Chemnitz , Norden , Ostfriesl, Leer , Löhne, Erfurt , St. Ingbert, Kaiserslautern , Hagen , Buchholz in der Nordheide, Ahrensburg, Bad Salzuflen , Karlsruhe , Kaarst, Solingen , Jena , Minden , Achim b Bremen, Homburg , Saar, Wolfsburg , Eschwege, Wedel, Oberhausen , Bad Bevensen, Detmold , Zweibrücken , Flensburg , Wittmund, Winsen , Mettlach, Nuthe-Urstromtal, Düren , Papenburg, Mülheim , Reutlingen , Albstadt , Rostock , Baden-Baden , Marl , Aachen , Pforzheim , Viersen , Gera , Merzig, Strausberg, Lüdenscheid , Neustadt , Moormerland, Stade , Gronau , Pirmasens , Quickborn , Kr Pinneberg, Westoverledingen, Bad Essen, Buxtehude, Meerbusch , Neunkirchen , Fritzlar, Heinsberg , Rheinl, Freiburg , Stuhr, Uelzen , Lüneburger Heide, Varel , Jadebusen, Grimma, Neustadt am Rübenberge, Ostrhauderfehn, Moers , Hanau , Recklinghausen , Barsinghausen, Reinbek, Schortens, Bamberg , Heide , Holst, Neumarkt , Oberpf, Stralsund , Krummhörn, Oranienburg, Ratingen , Bad Zwischenahn, Pegau, Rellingen, Potsdam , Cuxhaven , Itzehoe, Windeck , Sieg, Bremerhaven , Herzogenaurach, Osterholz-Scharmbeck, Rheine , Königswinter, Oberasbach b Nürnberg, Bad Bentheim, Mechernich, Geilenkirchen, Gummersbach , Meppen, Worms , Hameln , Gütersloh , Neu Wulmstorf , Niederelbe, Troisdorf , Salzgitter , Elmshorn, Saarlouis, Würzburg , Perl , Saar, Kaufbeuren, Schwerin , Wiesmoor, Forchheim , Oberfr, Bad Oeynhausen , Kerpen , Markkleeberg, Weener, Delitzsch, Großefehn, Garbsen , Hildesheim , Iserlohn , Lingen , Völklingen, Wrestedt, Preußisch Oldendorf, Euskirchen , Ibbenbüren , Landshut , Bad Münstereifel, Weyhe b Bremen, Donaueschingen, Heidelberg , Offenbach , Heilbronn , Husum , Nordsee, Höchstadt a d Aisch, Porta Westfalica, Scharbeutz , Dessau , Hennef , Herten , Passau , Südbrookmerland, Schwaig b. Nürnberg, Singen , Bergisch Gladbach , Erftstadt, Ganderkesee, Kaltenkirchen , Holst, Herford , Unna , Westerstede, Bad Honnef, Syke, Castrop-Rauxel , Bergheim , Rodgau, Rosenheim , Melle , Bayreuth , Püttlingen, Weißenfels , Saale, Weimar , Bottrop , Koblenz , Wunstorf, Rastede, Saterland, Zwenkau, Greifswald , Stahnsdorf, Bad Wildungen, Sankt Augustin, Wendelstein , Mittelfr, Bernburg , Langenhagen , Lauf a d Pegnitz, Siegen , Ansbach , Mittelfr, Lippstadt , Schönebeck , Wandlitz, Gladbeck , Bernau bei Berlin, Großpösna, Mühlhausen /Thüringen, Grevenbroich , Herne , Bünde, Deggendorf, Erkelenz, Haren , Kleve , Niederrhein, Radebeul, Bunde , Ostfriesl, Geldern, Grenzach-Wyhlen, Großkugel, Quedlinburg, Felsberg , Hess, Lörrach , Bergkamen, Coburg, Niedenstein, Rödermark, Esslingen , Neubrandenburg , Balingen, Gifhorn, Kranenburg , Niederrhein, Laatzen b Hannover, Lilienthal b Bremen, Pulheim, Springe , Deister, Stolberg , Heidenheim , Nettetal, Wangerland, Wedemark, Arnsberg , Eschweiler , Rheinl, Lohmar , Rheinl, Schkopau, Bad Bramstedt, Brandenburg , Edewecht, Hückelhoven, Suhl , Warstein, Zülpich, Baunatal, Halstenbek , Holst, Idar-Oberstein, Schiffweiler]\n"
     ]
    }
   ],
   "source": [
    "print(cities)"
   ]
  },
  {
   "cell_type": "code",
   "execution_count": 59,
   "metadata": {},
   "outputs": [],
   "source": [
    "#Ab hier test"
   ]
  },
  {
   "cell_type": "code",
   "execution_count": 6,
   "metadata": {},
   "outputs": [],
   "source": [
    "from geopy.geocoders import Nominatim\n",
    "geolocator = Nominatim(user_agent='myapplication')\n",
    "for c in cities:\n",
    "    c.location = geolocator.geocode(c.name + \", Germany\")"
   ]
  },
  {
   "cell_type": "code",
   "execution_count": null,
   "metadata": {},
   "outputs": [],
   "source": [
    "\n",
    "new_pricemap=[]\n",
    "for p in pricemap:\n",
    "    c=(p[2]-minp) * (100 - 0) / (maxp-minp) + 0\n",
    "    p[2]=c\n",
    "    #for i in range(int(c)):\n",
    "    #    new_pricemap.append(p)\n",
    "    \n",
    "pricemap"
   ]
  },
  {
   "cell_type": "code",
   "execution_count": null,
   "metadata": {},
   "outputs": [],
   "source": []
  },
  {
   "cell_type": "code",
   "execution_count": 8,
   "metadata": {},
   "outputs": [],
   "source": [
    "from ipyleaflet import *\n",
    "from random import uniform\n",
    "import time"
   ]
  },
  {
   "cell_type": "code",
   "execution_count": 120,
   "metadata": {},
   "outputs": [],
   "source": [
    "import math\n",
    "from ipywidgets import HTML\n",
    "from colour import Color\n",
    "colors = list(Color(\"green\").range_to(Color(\"red\"),100))"
   ]
  },
  {
   "cell_type": "code",
   "execution_count": 126,
   "metadata": {
    "scrolled": true
   },
   "outputs": [
    {
     "data": {
      "application/vnd.jupyter.widget-view+json": {
       "model_id": "3e20c608b9b6427185f511715f74dfa0",
       "version_major": 2,
       "version_minor": 0
      },
      "text/plain": [
       "Map(basemap={'url': 'https://{s}.tile.openstreetmap.org/{z}/{x}/{y}.png', 'max_zoom': 19, 'attribution': 'Map …"
      ]
     },
     "metadata": {},
     "output_type": "display_data"
    }
   ],
   "source": [
    "m = Map(center=[50.84757295365389, 10.437011718750002], zoom=5)\n",
    "heat = Heatmap()\n",
    "m.add_layer(heat)\n",
    "mapeles=[]\n",
    "m"
   ]
  },
  {
   "cell_type": "code",
   "execution_count": 122,
   "metadata": {},
   "outputs": [
    {
     "name": "stdout",
     "output_type": "stream",
     "text": [
      "300\n"
     ]
    }
   ],
   "source": [
    "print(len(cities))"
   ]
  },
  {
   "cell_type": "code",
   "execution_count": null,
   "metadata": {},
   "outputs": [],
   "source": [
    "pricemap = []\n",
    "for c in cities:\n",
    "    if c.location is not None:\n",
    "        pricemap.append([c.location.raw[\"lat\"],c.location.raw[\"lon\"],c.price[\"mean\"]])\n",
    "maxp = max(*[c[2] for c in pricemap ])\n",
    "minp = min(*[c[2] for c in pricemap ])\n",
    "\n",
    "for e in mapeles:\n",
    "    m.remove_layer(e)\n",
    "\n",
    "\n",
    "for c in cities:\n",
    "    if c.location is not None:\n",
    "        cl=(c.price[\"mean\"]-minp) * (len(colors) - 1) / (maxp-minp)\n",
    "        mark = Circle(location=[c.location.raw[\"lat\"],c.location.raw[\"lon\"]],opacity=0.8,radius=200,color=colors[int(cl)].hex)\n",
    "        m += mark\n",
    "        html_widget = HTML(\n",
    "            value=\"\"\"\n",
    "                <div>\n",
    "                <h2>\"\"\"+c.name+\"\"\"</h2>\n",
    "                <ul class='list-group'>\n",
    "                    <li class='list-group-item'>\"\"\"+str(c.price[\"mean\"])+\"\"\"</li>\n",
    "                </ul></div>\"\"\",\n",
    "            placeholder='',\n",
    "            description='',\n",
    "        )\n",
    "        mark.popup = html_widget\n",
    "        mapeles.append(mark)\n",
    "\n"
   ]
  },
  {
   "cell_type": "code",
   "execution_count": 101,
   "metadata": {},
   "outputs": [],
   "source": [
    "heat.locations = pricemap\n",
    "\n",
    "heat.gradient = {1: 'red', 0.9: 'yellow', 0.7: 'lime', 0.4: 'cyan', 0.1: 'blue'}\n",
    "heat.radius = 80/math.sqrt(m.zoom)\n",
    "heat.blur = 0*30/math.sqrt(m.zoom)\n",
    "#=heat.max = 0.5\n",
    "#"
   ]
  },
  {
   "cell_type": "code",
   "execution_count": null,
   "metadata": {},
   "outputs": [],
   "source": []
  },
  {
   "cell_type": "code",
   "execution_count": 99,
   "metadata": {},
   "outputs": [],
   "source": [
    "\n",
    "heat.latlngs=heat.locations"
   ]
  },
  {
   "cell_type": "code",
   "execution_count": null,
   "metadata": {},
   "outputs": [],
   "source": []
  }
 ],
 "metadata": {
  "kernelspec": {
   "display_name": "wohnen",
   "language": "python",
   "name": "wohnen"
  },
  "language_info": {
   "codemirror_mode": {
    "name": "ipython",
    "version": 3
   },
   "file_extension": ".py",
   "mimetype": "text/x-python",
   "name": "python",
   "nbconvert_exporter": "python",
   "pygments_lexer": "ipython3",
   "version": "3.6.7"
  }
 },
 "nbformat": 4,
 "nbformat_minor": 2
}
